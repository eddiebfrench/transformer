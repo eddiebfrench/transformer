{
 "cells": [
  {
   "cell_type": "code",
   "execution_count": 1,
   "metadata": {},
   "outputs": [],
   "source": [
    "import os\n",
    "import requests\n",
    "from bs4 import BeautifulSoup"
   ]
  },
  {
   "cell_type": "code",
   "execution_count": 2,
   "metadata": {},
   "outputs": [
    {
     "name": "stdout",
     "output_type": "stream",
     "text": [
      "Successfully downloaded and saved book ID 84 to gutenberg_books/book_84.txt\n",
      "Successfully downloaded and saved book ID 2600 to gutenberg_books/book_2600.txt\n",
      "Successfully downloaded and saved book ID 1184 to gutenberg_books/book_1184.txt\n",
      "Successfully downloaded and saved book ID 28054 to gutenberg_books/book_28054.txt\n",
      "Successfully downloaded and saved book ID 1257 to gutenberg_books/book_1257.txt\n",
      "Successfully downloaded and saved book ID 105 to gutenberg_books/book_105.txt\n",
      "Successfully downloaded and saved book ID 768 to gutenberg_books/book_768.txt\n",
      "Successfully downloaded and saved book ID 599 to gutenberg_books/book_599.txt\n",
      "Successfully downloaded and saved book ID 1400 to gutenberg_books/book_1400.txt\n",
      "Successfully downloaded and saved book ID 1399 to gutenberg_books/book_1399.txt\n",
      "Successfully downloaded and saved book ID 145 to gutenberg_books/book_145.txt\n",
      "Successfully downloaded and saved book ID 2554 to gutenberg_books/book_2554.txt\n",
      "Successfully downloaded and saved book ID 2701 to gutenberg_books/book_2701.txt\n",
      "Successfully downloaded and saved book ID 1837 to gutenberg_books/book_1837.txt\n"
     ]
    }
   ],
   "source": [
    "#Chat-GPT generated code\n",
    "\n",
    "# Directory where the books will be saved\n",
    "output_dir = \"gutenberg_books\"\n",
    "os.makedirs(output_dir, exist_ok=True)\n",
    "\n",
    "# Function to download a book by its Gutenberg ID and save it to a text file\n",
    "def download_book(book_id):\n",
    "    try:\n",
    "        # Construct the URL for the book (Gutenberg's plain text version)\n",
    "        url = f\"https://www.gutenberg.org/files/{book_id}/{book_id}-0.txt\"\n",
    "        \n",
    "        # Send a request to fetch the book content\n",
    "        response = requests.get(url)\n",
    "        response.raise_for_status()  # Check for errors\n",
    "        \n",
    "        # Save the book content to a text file\n",
    "        book_title = f\"book_{book_id}.txt\"\n",
    "        file_path = os.path.join(output_dir, book_title)\n",
    "        \n",
    "        with open(file_path, 'w', encoding='utf-8') as file:\n",
    "            file.write(response.text)\n",
    "\n",
    "        print(f\"Successfully downloaded and saved book ID {book_id} to {file_path}\")\n",
    "    \n",
    "    except Exception as e:\n",
    "        print(f\"Failed to download book ID {book_id}: {e}\")\n",
    "\n",
    "def download_books(book_ids):\n",
    "    for book_id in book_ids:\n",
    "        download_book(book_id)\n",
    "\n",
    "book_ids = [84, 2600, 1184, 28054, 1257, 105, 768, 599, 1400, 1399, 145, 2554, 2701, 1837]  #\"Pride and Prejudice\", \"War and Peace\", \"Frankenstein\", \"The Count of Monte Cristo\", \"The Brothers Karamzov\"\n",
    "\n",
    "download_books(book_ids)\n"
   ]
  },
  {
   "cell_type": "code",
   "execution_count": 1,
   "metadata": {},
   "outputs": [],
   "source": [
    "import re\n",
    "from unidecode import unidecode\n",
    "\n",
    "book_ids = [84, 2600, 1184, 28054, 1257, 105, 768, 599, 1400, 1399, 145, 2554, 2701, 1837]\n",
    "with open(\"test_data.txt\", 'w', encoding='utf-8') as test_file: \n",
    "    with open(\"train_data.txt\", 'w', encoding='utf-8') as train_file:\n",
    "        for book_id in book_ids:\n",
    "            book_file_path = f\"gutenberg_books/book_{book_id}.txt\"\n",
    "            \n",
    "            with open(book_file_path, 'r', encoding='utf-8') as book_file:\n",
    "                book_content = unidecode(book_file.read())\n",
    "                allowed_characters_pattern = r\"\"\"[^a-zA-Z0-9\\s.,!?;:'\"-]\"\"\"\n",
    "                book_content = re.sub(allowed_characters_pattern, \"\", book_content)\n",
    "                split = round(len(book_content) * 0.8)\n",
    "                train_file.write(book_content[:split] + \"\\n\\n\")\n",
    "                test_file.write(book_content[split:] + \"\\n\\n\")"
   ]
  },
  {
   "cell_type": "code",
   "execution_count": null,
   "metadata": {},
   "outputs": [],
   "source": []
  }
 ],
 "metadata": {
  "kernelspec": {
   "display_name": "genai",
   "language": "python",
   "name": "python3"
  },
  "language_info": {
   "codemirror_mode": {
    "name": "ipython",
    "version": 3
   },
   "file_extension": ".py",
   "mimetype": "text/x-python",
   "name": "python",
   "nbconvert_exporter": "python",
   "pygments_lexer": "ipython3",
   "version": "3.10.12"
  }
 },
 "nbformat": 4,
 "nbformat_minor": 2
}
