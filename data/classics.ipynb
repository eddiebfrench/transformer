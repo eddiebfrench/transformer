{
 "cells": [
  {
   "cell_type": "code",
   "execution_count": null,
   "metadata": {},
   "outputs": [],
   "source": [
    "import os\n",
    "import requests\n",
    "from bs4 import BeautifulSoup"
   ]
  },
  {
   "cell_type": "code",
   "execution_count": null,
   "metadata": {},
   "outputs": [
    {
     "name": "stdout",
     "output_type": "stream",
     "text": [
      "Successfully downloaded and saved book ID 1342 to gutenberg_books\\book_1342.txt\n",
      "Successfully downloaded and saved book ID 84 to gutenberg_books\\book_84.txt\n",
      "Successfully downloaded and saved book ID 16328 to gutenberg_books\\book_16328.txt\n",
      "Successfully downloaded and saved book ID 1184 to gutenberg_books\\book_1184.txt\n",
      "Successfully downloaded and saved book ID 28054 to gutenberg_books\\book_28054.txt\n"
     ]
    }
   ],
   "source": [
    "#Chat-GPT generated code\n",
    "\n",
    "# Directory where the books will be saved\n",
    "output_dir = \"gutenberg_books\"\n",
    "os.makedirs(output_dir, exist_ok=True)\n",
    "\n",
    "# Function to download a book by its Gutenberg ID and save it to a text file\n",
    "def download_book(book_id):\n",
    "    try:\n",
    "        # Construct the URL for the book (Gutenberg's plain text version)\n",
    "        url = f\"https://www.gutenberg.org/files/{book_id}/{book_id}-0.txt\"\n",
    "        \n",
    "        # Send a request to fetch the book content\n",
    "        response = requests.get(url)\n",
    "        response.raise_for_status()  # Check for errors\n",
    "        \n",
    "        # Save the book content to a text file\n",
    "        book_title = f\"book_{book_id}.txt\"\n",
    "        file_path = os.path.join(output_dir, book_title)\n",
    "        \n",
    "        with open(file_path, 'w', encoding='utf-8') as file:\n",
    "            file.write(response.text)\n",
    "\n",
    "        print(f\"Successfully downloaded and saved book ID {book_id} to {file_path}\")\n",
    "    \n",
    "    except Exception as e:\n",
    "        print(f\"Failed to download book ID {book_id}: {e}\")\n",
    "\n",
    "def download_books(book_ids):\n",
    "    for book_id in book_ids:\n",
    "        download_book(book_id)\n",
    "\n",
    "book_ids = [1342, 84, 16328, 1184, 28054]  #\"Pride and Prejudice\", \"Beowulf\", \"Frankenstein\", \"The Count of Monte Cristo\", \"The Brothers Karamzov\"\n",
    "\n",
    "download_books(book_ids)\n"
   ]
  },
  {
   "cell_type": "code",
   "execution_count": 4,
   "metadata": {},
   "outputs": [],
   "source": [
    "import re\n",
    "with open(\"text_data.txt\", 'w', encoding='utf-8') as output_file:\n",
    "    for book_id in book_ids:\n",
    "        book_file_path = f\"gutenberg_books/book_{book_id}.txt\"\n",
    "        \n",
    "        with open(book_file_path, 'r', encoding='utf-8') as book_file:\n",
    "            book_content = book_file.read()\n",
    "            allowed_characters_pattern = r\"[^a-zA-Z0-9\\s.,!?;:'\\\"-]\"\n",
    "            book_content = re.sub(allowed_characters_pattern, \"\", book_content)\n",
    "            output_file.write(book_content + \"\\n\\n\")"
   ]
  }
 ],
 "metadata": {
  "kernelspec": {
   "display_name": "base",
   "language": "python",
   "name": "python3"
  },
  "language_info": {
   "codemirror_mode": {
    "name": "ipython",
    "version": 3
   },
   "file_extension": ".py",
   "mimetype": "text/x-python",
   "name": "python",
   "nbconvert_exporter": "python",
   "pygments_lexer": "ipython3",
   "version": "3.11.4"
  }
 },
 "nbformat": 4,
 "nbformat_minor": 2
}
